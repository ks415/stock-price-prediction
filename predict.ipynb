{
 "cells": [
  {
   "cell_type": "code",
   "execution_count": 1,
   "metadata": {},
   "outputs": [],
   "source": [
    "import pandas as pd\n",
    "import numpy as np\n",
    "import matplotlib.pyplot as plt\n",
    "import torch\n",
    "import seaborn as sns\n",
    "from sklearn.preprocessing import MinMaxScaler\n",
    "from sklearn.metrics import mean_squared_error\n",
    "from sklearn.metrics import r2_score\n",
    "from math import sqrt\n",
    "import torch.nn as nn\n",
    "import torch.optim as optim"
   ]
  },
  {
   "cell_type": "code",
   "execution_count": null,
   "metadata": {},
   "outputs": [],
   "source": [
    "df = pd.read_csv('stock_price.csv')\n",
    "\n",
    "df.head()"
   ]
  },
  {
   "cell_type": "code",
   "execution_count": null,
   "metadata": {},
   "outputs": [],
   "source": [
    "df.info()"
   ]
  },
  {
   "cell_type": "code",
   "execution_count": 4,
   "metadata": {},
   "outputs": [],
   "source": [
    "df['日付け'] = pd.to_datetime(df['日付け'])"
   ]
  },
  {
   "cell_type": "code",
   "execution_count": null,
   "metadata": {},
   "outputs": [],
   "source": [
    "df = df[['日付け', '始値', '高値', '安値', '終値', '出来高', '変化率 %']].rename(columns={\n",
    "    '日付け': 'Date',\n",
    "    '始値': 'Open',\n",
    "    '高値': 'High',\n",
    "    '安値': 'Low',\n",
    "    '終値': 'Close',\n",
    "    '出来高': 'Volume',\n",
    "    '変化率 %': 'Change',\n",
    "})\n",
    "\n",
    "df.head(10)"
   ]
  },
  {
   "cell_type": "code",
   "execution_count": null,
   "metadata": {},
   "outputs": [],
   "source": [
    "df.info()"
   ]
  },
  {
   "cell_type": "code",
   "execution_count": 140,
   "metadata": {},
   "outputs": [],
   "source": [
    "# VolumeとChangeの全体を確認する用\n",
    "\n",
    "# Volumeカラムのデータを数値に変換\n",
    "# def convert_volume(value):\n",
    "#     if 'M' in value:\n",
    "#         return float(value.replace('M', '')) * 1\n",
    "#     elif 'B' in value:\n",
    "#         return float(value.replace('B', '')) * 1000\n",
    "#     return float(value)\n",
    "\n",
    "# df['Volume'] = df['Volume'].apply(convert_volume)\n",
    "\n",
    "# Changeカラムのデータを数値に変換\n",
    "# def convert_change(change):\n",
    "#     return float(change.replace('%', ''))\n",
    "\n",
    "# df['Change'] = df['Change'].apply(convert_change)\n",
    "\n",
    "# df[['Date', 'Change']].plot(x='Date', kind='line')\n",
    "# plt.show()"
   ]
  },
  {
   "cell_type": "code",
   "execution_count": null,
   "metadata": {},
   "outputs": [],
   "source": [
    "# データ全体の確認\n",
    "df[['Date','Open', 'High', 'Low','Close']].plot(x='Date', kind='line')\n",
    "plt.show()"
   ]
  },
  {
   "cell_type": "code",
   "execution_count": null,
   "metadata": {},
   "outputs": [],
   "source": [
    "# 一目均衡表の計算\n",
    "df['Tenkan-sen'] = (df['High'].rolling(window=9).max() + df['Low'].rolling(window=9).min()) / 2\n",
    "df['Kijun-sen'] = (df['High'].rolling(window=26).max() + df['Low'].rolling(window=26).min()) / 2\n",
    "df['Senkou Span A'] = ((df['Tenkan-sen'] +df['Kijun-sen']) / 2).shift(26)\n",
    "df['Senkou Span B'] = (df['High'].rolling(window=52).max() + df['Low'].rolling(window=52).min()) / 2\n",
    "df['Chikou Span'] = df['Close'].shift(-26)\n",
    "\n",
    "df.head()"
   ]
  },
  {
   "cell_type": "code",
   "execution_count": null,
   "metadata": {},
   "outputs": [],
   "source": [
    "df = df[['Date', 'High', 'Low', 'Open', 'Close', 'Tenkan-sen', 'Kijun-sen', 'Senkou Span A', 'Senkou Span B', 'Chikou Span']]\n",
    "# 特徴量間のヒートマップの表示\n",
    "sns.heatmap(df.corr(), vmin=-1, vmax=1, annot=True, cmap=\"rocket_r\")\n",
    "plt.show()"
   ]
  },
  {
   "cell_type": "code",
   "execution_count": null,
   "metadata": {},
   "outputs": [],
   "source": [
    "# Dataカラムの削除とNaNデータの排除\n",
    "feature = df.drop(columns=['Date'])\n",
    "feature = feature.iloc[51:-26].reset_index(drop=True)\n",
    "target = feature['Close']\n",
    "feature.tail()"
   ]
  },
  {
   "cell_type": "code",
   "execution_count": 11,
   "metadata": {},
   "outputs": [],
   "source": [
    "# 正規化の範囲を決める\n",
    "\n",
    "# # スケーリングを(0, 1)の範囲で行う\n",
    "# scaler_features = MinMaxScaler()\n",
    "# scaled_features = scaler_features.fit_transform(feature)\n",
    "# scaler_target = MinMaxScaler()\n",
    "# scaled_target = scaler_target.fit_transform(target.values.reshape(-1, 1))\n",
    "\n",
    "# スケーリングを(-1, 1)の範囲で行う\n",
    "scaler_features = MinMaxScaler(feature_range=(-0.5, 0.5))\n",
    "scaled_features = scaler_features.fit_transform(feature)\n",
    "scaler_target = MinMaxScaler(feature_range=(-0.5, 0.5))\n",
    "scaled_target = scaler_target.fit_transform(target.values.reshape(-1, 1))"
   ]
  },
  {
   "cell_type": "code",
   "execution_count": 12,
   "metadata": {},
   "outputs": [],
   "source": [
    "# データのシーケンス化\n",
    "def create_sequences(data, seq_length):\n",
    "    X, y = [], []\n",
    "    for i in range(len(data) - seq_length):\n",
    "        X.append(data[i:i + seq_length, :-1])\n",
    "        y.append(data[i + seq_length, -1])\n",
    "    return np.array(X), np.array(y)\n",
    "\n",
    "time_step = 10\n",
    "scaled_data = np.hstack((scaled_features, scaled_target))\n",
    "X, y = create_sequences(scaled_data, time_step)    # X:feature y:target"
   ]
  },
  {
   "cell_type": "code",
   "execution_count": 13,
   "metadata": {},
   "outputs": [],
   "source": [
    "# 訓練データとテストデータの分割\n",
    "train_size = int(len(X) * 0.8)\n",
    "X_train, X_test = X[:train_size], X[train_size:]\n",
    "y_train, y_test = y[:train_size], y[train_size:]"
   ]
  },
  {
   "cell_type": "code",
   "execution_count": 14,
   "metadata": {},
   "outputs": [],
   "source": [
    "X_train = torch.tensor(X_train, dtype=torch.float32)\n",
    "y_train = torch.tensor(y_train, dtype=torch.float32).view(-1, 1)\n",
    "X_test = torch.tensor(X_test, dtype=torch.float32)\n",
    "y_test = torch.tensor(y_test, dtype=torch.float32).view(-1, 1)"
   ]
  },
  {
   "cell_type": "code",
   "execution_count": 15,
   "metadata": {},
   "outputs": [],
   "source": [
    "# LSTMモデルの定義\n",
    "class LSTMModel(nn.Module):\n",
    "    def __init__(self, input_size, hidden_layer_size=50, num_layers=1, output_size=1):\n",
    "        super(LSTMModel, self).__init__()\n",
    "        self.lstm = nn.LSTM(input_size, hidden_layer_size, num_layers=num_layers, batch_first=True)\n",
    "        self.linear = nn.Linear(hidden_layer_size, output_size)\n",
    "\n",
    "    def forward(self, x):\n",
    "        lstm_out, _ = self.lstm(x)\n",
    "        x = lstm_out[:, -1, :] \n",
    "        x = self.linear(x)\n",
    "        return x\n",
    "    \n",
    "# モデル、損失関数、最適化手法の定義\n",
    "input_size = X_train.shape[2]\n",
    "model = LSTMModel(input_size)\n",
    "loss_function = nn.MSELoss()\n",
    "optimizer = optim.Adam(model.parameters(), lr=0.001)\n",
    "\n",
    "# トレーニングパラメータの設定\n",
    "epochs = 200\n",
    "batch_size = 64\n",
    "losses = []"
   ]
  },
  {
   "cell_type": "code",
   "execution_count": 16,
   "metadata": {},
   "outputs": [],
   "source": [
    "# トレーニングデータのロード\n",
    "train_loader = torch.utils.data.DataLoader(torch.utils.data.TensorDataset(X_train, y_train), batch_size=batch_size, shuffle=True)"
   ]
  },
  {
   "cell_type": "code",
   "execution_count": null,
   "metadata": {},
   "outputs": [],
   "source": [
    "# モデルのトレーニング\n",
    "for epoch in range(epochs):\n",
    "    model.train()\n",
    "    epoch_loss = 0\n",
    "    for X_batch, y_batch in train_loader:\n",
    "        optimizer.zero_grad()\n",
    "        y_pred = model(X_batch)\n",
    "        loss = loss_function(y_pred, y_batch)\n",
    "        loss.backward()\n",
    "        optimizer.step()\n",
    "        epoch_loss += loss.item()\n",
    "    \n",
    "    epoch_loss /= len(train_loader)\n",
    "    losses.append(epoch_loss)\n",
    "    if epoch % 10 == 0:\n",
    "        print(f'Epoch {epoch+1}, Loss: {epoch_loss}')\n",
    "\n",
    "# トレーニング損失のプロット\n",
    "plt.figure(figsize=(10, 5))\n",
    "plt.plot(range(epochs), losses)\n",
    "plt.xlabel('Epoch')\n",
    "plt.ylabel('Loss')\n",
    "plt.title('Training Loss Over Epochs')\n",
    "plt.show()"
   ]
  },
  {
   "cell_type": "code",
   "execution_count": null,
   "metadata": {},
   "outputs": [],
   "source": [
    "# テストデータでの評価\n",
    "model.eval()\n",
    "with torch.no_grad():\n",
    "    y_pred = model(X_test)\n",
    "\n",
    "# スケールを元に戻す\n",
    "y_pred_scaled = y_pred.numpy().reshape(-1, 1)\n",
    "y_test_scaled = y_test.numpy().reshape(-1, 1)\n",
    "\n",
    "y_pred_inverse = scaler_target.inverse_transform(y_pred_scaled)\n",
    "y_test_inverse = scaler_target.inverse_transform(y_test_scaled)\n",
    "\n",
    "# テスト損失を計算\n",
    "test_loss = np.mean((y_pred_inverse - y_test_inverse) ** 2)\n",
    "print(f'Test Loss: {test_loss}')\n",
    "\n",
    "# # R^2を計算\n",
    "# lstm_r2 = r2_score(y_test_inverse[1:], y_pred_inverse[:-1])\n",
    "# print(f'LSTM Model R^2: {lstm_r2:.2f}')\n",
    "\n",
    "# RMSEを計算\n",
    "rmse = sqrt(mean_squared_error(y_test_inverse, y_pred_inverse))\n",
    "print(f'Test RMSE: {rmse:.2f}')\n",
    "\n",
    "# 実際の価格の変動方向と予測された価格の変動方向を計算\n",
    "actual_direction = np.sign(np.diff(y_test_inverse, axis=0))\n",
    "predicted_direction = np.sign(np.diff(y_pred_inverse, axis=0))\n",
    "\n",
    "# 変動の正解率を計算\n",
    "accuracy = np.mean(actual_direction == predicted_direction) * 100\n",
    "print(f'Accuracy of predicting the direction of stock price change: {accuracy:.2f}%')\n",
    "\n",
    "# 結果のプロット\n",
    "plt.figure(figsize=(14, 5))\n",
    "# plt.xlim(1450, 1850)  #わかりやすくするときに外す\n",
    "# plt.ylim(190, 320)   #わかりやすくするときに外す\n",
    "plt.plot(range(len(y_test_inverse)), y_test_inverse, label='True Close')\n",
    "plt.plot(range(len(y_pred_inverse)), y_pred_inverse, label='Predicted Close')\n",
    "plt.xlabel('Index')\n",
    "plt.ylabel('Price')\n",
    "plt.legend()\n",
    "plt.show()"
   ]
  },
  {
   "cell_type": "code",
   "execution_count": null,
   "metadata": {},
   "outputs": [],
   "source": [
    "# 以下ベースラインモデルの評価\n",
    "\n",
    "# 前日のClose価格を予測値とする\n",
    "baseline_pred = y_test_inverse[:-1]\n",
    "baseline_actual = y_test_inverse[1:]\n",
    "\n",
    "# ベースラインモデルのRMSEを計算\n",
    "baseline_rmse = sqrt(mean_squared_error(baseline_actual, baseline_pred))\n",
    "print(f'Baseline Model RMSE: {baseline_rmse:.2f}')\n",
    "\n",
    "# ベースラインモデルの変動予測精度を計算\n",
    "baseline_actual_direction = np.sign(np.diff(baseline_actual, axis=0))\n",
    "baseline_predicted_direction = np.sign(np.diff(baseline_pred, axis=0))\n",
    "\n",
    "# ベースラインモデルの正解率を計算\n",
    "baseline_accuracy = np.mean(baseline_actual_direction == baseline_predicted_direction) * 100\n",
    "print(f'Baseline Model Accuracy: {baseline_accuracy:.2f}%')\n",
    "\n",
    "# 結果のプロット\n",
    "plt.figure(figsize=(14, 5))\n",
    "plt.plot(range(len(baseline_actual)), baseline_actual, label='True Close')\n",
    "plt.plot(range(len(baseline_pred)), baseline_pred, label='Baseline Predicted Close')\n",
    "plt.xlabel('Index')\n",
    "plt.ylabel('Price')\n",
    "plt.legend()\n",
    "plt.show()"
   ]
  }
 ],
 "metadata": {
  "kernelspec": {
   "display_name": "venv",
   "language": "python",
   "name": "python3"
  },
  "language_info": {
   "codemirror_mode": {
    "name": "ipython",
    "version": 3
   },
   "file_extension": ".py",
   "mimetype": "text/x-python",
   "name": "python",
   "nbconvert_exporter": "python",
   "pygments_lexer": "ipython3",
   "version": "3.9.18"
  }
 },
 "nbformat": 4,
 "nbformat_minor": 2
}
